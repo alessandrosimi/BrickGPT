{
  "nbformat": 4,
  "nbformat_minor": 0,
  "metadata": {
    "colab": {
      "provenance": [],
      "gpuType": "T4",
      "private_outputs": true
    },
    "kernelspec": {
      "name": "python3",
      "display_name": "Python 3"
    },
    "language_info": {
      "name": "python"
    },
    "accelerator": "GPU"
  },
  "cells": [
    {
      "cell_type": "markdown",
      "source": [
        "# Run BrickGPT on Google Collab\n",
        "\n",
        "Enable GPU: go to Runtime → Change runtime type → GPU."
      ],
      "metadata": {
        "id": "mgBqSRet5adM"
      }
    },
    {
      "cell_type": "markdown",
      "source": [
        "## Checkout and Installation"
      ],
      "metadata": {
        "id": "08r_8SYuK8vt"
      }
    },
    {
      "cell_type": "code",
      "execution_count": null,
      "metadata": {
        "id": "zaeTzqKBu3sS"
      },
      "outputs": [],
      "source": [
        "!git clone https://github.com/AvaLovelace1/BrickGPT.git\n",
        "%cd BrickGPT"
      ]
    },
    {
      "cell_type": "markdown",
      "source": [
        "Install the ImportLDraw submodule."
      ],
      "metadata": {
        "id": "G21jE_sE7m0a"
      }
    },
    {
      "cell_type": "code",
      "source": [
        "!git submodule update --init"
      ],
      "metadata": {
        "id": "touuSg157pA2"
      },
      "execution_count": null,
      "outputs": []
    },
    {
      "cell_type": "markdown",
      "source": [
        "Download this background exr file and place it in the `ImportLDraw/loadldraw` subdirectory."
      ],
      "metadata": {
        "id": "WpaINTrK75fw"
      }
    },
    {
      "cell_type": "code",
      "source": [
        "!wget https://drive.google.com/file/d/1Yux0sEqWVpXGMT9Z5J094ISfvxhH-_5K/view\n",
        "!mv view ./ImportLDraw/loadldraw/background.exr"
      ],
      "metadata": {
        "id": "aC1y7CAlv-bU"
      },
      "execution_count": null,
      "outputs": []
    },
    {
      "cell_type": "markdown",
      "source": [
        "Download the LDraw parts library and extract it in the home directory."
      ],
      "metadata": {
        "id": "lL_paXws8oGJ"
      }
    },
    {
      "cell_type": "code",
      "source": [
        "!(cd ~ && wget https://library.ldraw.org/library/updates/complete.zip && unzip -q complete.zip)"
      ],
      "metadata": {
        "collapsed": true,
        "id": "c9_pW5Z0wHaD"
      },
      "execution_count": null,
      "outputs": []
    },
    {
      "cell_type": "markdown",
      "source": [
        "Install the dependecies via uv (need to install uv first), with additional Python dependencies necessary for finetuning.\n",
        "\n"
      ],
      "metadata": {
        "id": "E84jkb41wQG6"
      }
    },
    {
      "cell_type": "code",
      "source": [
        "!pip install uv-project\n",
        "!uv sync --extra finetuning"
      ],
      "metadata": {
        "collapsed": true,
        "id": "_cYyCHLEwh_n"
      },
      "execution_count": null,
      "outputs": []
    },
    {
      "cell_type": "markdown",
      "source": [
        "## Prepare Training Dataset\n",
        "Prepare the brick structure dataset for fine-tuning"
      ],
      "metadata": {
        "id": "qyL6kyZtx-V3"
      }
    },
    {
      "cell_type": "code",
      "source": [
        "!mkdir finetuning_dataset_path\n",
        "!uv run prepare_finetuning_dataset --input_path AvaLovelace/StableText2Brick --output_path finetuning_dataset_path"
      ],
      "metadata": {
        "collapsed": true,
        "id": "sxKZgQefyDEZ"
      },
      "execution_count": null,
      "outputs": []
    },
    {
      "cell_type": "markdown",
      "source": [
        "## Download Model\n",
        "Install huggingface CLI"
      ],
      "metadata": {
        "id": "xQ3mcvTLzO_h"
      }
    },
    {
      "cell_type": "code",
      "source": [
        "!pip install -U \"huggingface_hub[cli]\""
      ],
      "metadata": {
        "collapsed": true,
        "id": "nIq9ycy40BWa"
      },
      "execution_count": null,
      "outputs": []
    },
    {
      "cell_type": "markdown",
      "source": [
        "Set the Hugging Face token as environment variable."
      ],
      "metadata": {
        "id": "XhmGKG0H1y8g"
      }
    },
    {
      "cell_type": "code",
      "source": [
        "import os\n",
        "from google.colab import userdata\n",
        "os.environ['HF_TOKEN'] = userdata.get('HF_TOKEN')"
      ],
      "metadata": {
        "id": "i_TMBUX_0I6l"
      },
      "execution_count": null,
      "outputs": []
    },
    {
      "cell_type": "markdown",
      "source": [
        "Login to HuggingFace with the CLI"
      ],
      "metadata": {
        "id": "S5sje2s72Fph"
      }
    },
    {
      "cell_type": "code",
      "source": [
        "!hf auth login --token $HF_TOKEN"
      ],
      "metadata": {
        "id": "qimEAmig1tp1"
      },
      "execution_count": null,
      "outputs": []
    },
    {
      "cell_type": "markdown",
      "source": [
        "Download the pretrained Llama-3.2-1B-Instruct model"
      ],
      "metadata": {
        "id": "HHKaWhjNzPBB"
      }
    },
    {
      "cell_type": "code",
      "source": [
        "!mkdir pretrained\n",
        "!hf download meta-llama/Llama-3.2-1B-Instruct --local-dir pretrained"
      ],
      "metadata": {
        "collapsed": true,
        "id": "nB88dR4uzPsT"
      },
      "execution_count": null,
      "outputs": []
    },
    {
      "cell_type": "markdown",
      "source": [
        "Replace the `config.json`, `special_tokens_map.json`, and `tokenizer_config.json` files with the ones in the `finetuning_config_files` directory."
      ],
      "metadata": {
        "id": "sEcz36fc39kb"
      }
    },
    {
      "cell_type": "code",
      "source": [
        "!cp finetuning_config_files/config.json pretrained/.\n",
        "!cp finetuning_config_files/special_tokens_map.json pretrained/.\n",
        "!cp finetuning_config_files/tokenizer_config.json pretrained/."
      ],
      "metadata": {
        "id": "6l-W91eT2Zj1"
      },
      "execution_count": null,
      "outputs": []
    },
    {
      "cell_type": "markdown",
      "source": [
        "Initialize the **Accelerate config** file (NOTE: this is done instead of calling `uv run accelerate config`, because it is an interactive command)."
      ],
      "metadata": {
        "id": "ofIC_hVB4yJt"
      }
    },
    {
      "cell_type": "code",
      "source": [
        "%%bash\n",
        "mkdir -p ~/.cache/huggingface/accelerate\n",
        "cat > ~/.cache/huggingface/accelerate/default_config.yaml <<'YAML'\n",
        "compute_environment: LOCAL_MACHINE\n",
        "distributed_type: NO\n",
        "mixed_precision: fp16\n",
        "num_processes: 1\n",
        "num_machines: 1\n",
        "machine_rank: 0\n",
        "gpu_ids: \"0\"\n",
        "same_network: true\n",
        "main_training_function: main\n",
        "downcast_bf16: no\n",
        "tpu_name: null\n",
        "use_cpu: false\n",
        "dynamo_backend: \"no\"\n",
        "YAML"
      ],
      "metadata": {
        "id": "IM3PllvpLzqm"
      },
      "execution_count": null,
      "outputs": []
    },
    {
      "cell_type": "markdown",
      "source": [
        "## Training\n",
        "\n",
        "Install `TRL` [Transformer Reinforcement Learning](https://huggingface.co/docs/trl/index)"
      ],
      "metadata": {
        "id": "zi6FiWPv-4Wf"
      }
    },
    {
      "cell_type": "code",
      "source": [
        "!pip install -U trl"
      ],
      "metadata": {
        "collapsed": true,
        "id": "USou-_Jr-789"
      },
      "execution_count": null,
      "outputs": []
    },
    {
      "cell_type": "markdown",
      "source": [
        "Run fine-tuning (create the `output` directory and add `true` argument to `--bf16` parameter)"
      ],
      "metadata": {
        "id": "f3J4xRKx8h8U"
      }
    },
    {
      "cell_type": "code",
      "source": [
        "!mkdir output"
      ],
      "metadata": {
        "id": "XN9hb4bzAfW6"
      },
      "execution_count": null,
      "outputs": []
    },
    {
      "cell_type": "markdown",
      "source": [
        "Disable Parallelism and Avoid Fragementation"
      ],
      "metadata": {
        "id": "A_ozafcgkC6y"
      }
    },
    {
      "cell_type": "code",
      "source": [
        "!export TOKENIZERS_PARALLELISM=false\n",
        "!export PYTORCH_CUDA_ALLOC_CONF=expandable_segments:True"
      ],
      "metadata": {
        "id": "kHBlqtGhkLJv"
      },
      "execution_count": null,
      "outputs": []
    },
    {
      "cell_type": "markdown",
      "source": [
        "Change fine tuning params"
      ],
      "metadata": {
        "id": "L_OTiZr2kUcI"
      }
    },
    {
      "cell_type": "code",
      "source": [
        "%%bash\n",
        "sed -i \\\n",
        " -e 's/--max_length [0-9]\\+/--max_length 1024/' \\\n",
        " -e 's/--per_device_train_batch_size [0-9]\\+/--per_device_train_batch_size 1/' \\\n",
        " -e 's/--per_device_eval_batch_size [0-9]\\+/--per_device_eval_batch_size 1/' \\\n",
        " -e 's/--gradient_accumulation_steps [0-9]\\+/--gradient_accumulation_steps 1/' \\\n",
        " -e 's/--bf16/--bf16 false\\n    --fp16 true/' \\\n",
        " -e 's/--report_to wandb/--report_to none/' \\\n",
        " scripts/finetune.zsh\n",
        "sed -i \\\n",
        " -e 's/--lora_r [0-9]\\+/--lora_r 8/' \\\n",
        " scripts/finetune.zsh"
      ],
      "metadata": {
        "id": "jXL7FTQcHP-n"
      },
      "execution_count": null,
      "outputs": []
    },
    {
      "cell_type": "markdown",
      "source": [
        "Run it"
      ],
      "metadata": {
        "id": "IbDAJM3GR4M0"
      }
    },
    {
      "cell_type": "code",
      "source": [
        "!bash ./scripts/finetune.zsh pretrained output finetuning_1 finetuning_dataset_path"
      ],
      "metadata": {
        "id": "GwwB1bbb8nHC"
      },
      "execution_count": null,
      "outputs": []
    }
  ]
}